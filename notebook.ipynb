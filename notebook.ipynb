{
 "cells": [
  {
   "cell_type": "code",
   "execution_count": 1,
   "metadata": {},
   "outputs": [],
   "source": [
    "import numpy as np\n",
    "import matplotlib.pyplot as plt "
   ]
  },
  {
   "cell_type": "code",
   "execution_count": 49,
   "metadata": {},
   "outputs": [],
   "source": [
    "def create_dataset(X, slope = -3, intercept = 1, mu = 0, sigma = 1):\n",
    "    '''\n",
    "    Creates a noisy dataset with a linear relationship between X and y\n",
    "    '''\n",
    "    noise = np.random.normal(mu,sigma,len(X))\n",
    "    return (slope*X + intercept) + noise\n",
    "\n",
    "def draw_line(X, y, m, c):\n",
    "    '''\n",
    "    Draws the best fit line on a graph with data points\n",
    "    '''\n",
    "    X_max,X_min = np.max(X), np.min(X)\n",
    "\n",
    "    X_plot = np.linspace(X_min,X_max,10)\n",
    "    y_plot = m*X_plot+c\n",
    "\n",
    "    plt.scatter(X,y)\n",
    "    plt.plot(X_plot,y_plot,color = 'r')\n",
    "    \n",
    "def calculate_mse(X, y, m, c):\n",
    "    '''\n",
    "    Calculates the mean squared error for the predicted data\n",
    "    '''\n",
    "    predicted = m * X + c\n",
    "    return np.mean((y-predicted)**2)\n",
    "    "
   ]
  },
  {
   "cell_type": "code",
   "execution_count": 45,
   "metadata": {},
   "outputs": [
    {
     "data": {
      "text/plain": [
       "<matplotlib.collections.PathCollection at 0x7fd550965e50>"
      ]
     },
     "execution_count": 45,
     "metadata": {},
     "output_type": "execute_result"
    },
    {
     "data": {
      "image/png": "[encoded data removed]",
      "text/plain": [
       "<Figure size 432x288 with 1 Axes>"
      ]
     },
     "metadata": {
      "needs_background": "light"
     },
     "output_type": "display_data"
    }
   ],
   "source": [
    "n = 500\n",
    "X = np.random.randn(n)\n",
    "y = create_dataset(X)\n",
    "plt.scatter(X,y)"
   ]
  },
  {
   "cell_type": "markdown",
   "metadata": {},
   "source": [
    "### Part One: Linear regression using Analytical Method"
   ]
  },
  {
   "cell_type": "markdown",
   "metadata": {},
   "source": [
    "Now, since we already have the dataset ready we need to find the best fitting line that can estimate the data. \n",
    "\n",
    "The equation of a line is given by:\n",
    "$$ y = mx + c $$\n",
    "\n",
    "Hence, we need to find the best value for $m$ and $c$ (also known as parameters) such that it can fit data well.\n",
    "\n",
    "We will the simple linear regression method to find the best values for the parameters.\n",
    "$$ m = \\dfrac{\\Sigma x_i y_i - \\dfrac{1}{n} \\Sigma x_i \\Sigma y_i}{\\Sigma x_i^2 - \\dfrac{1}{n}(\\Sigma x_i)^2} = \\dfrac{Cov[x,y]}{Var[x]} $$\n",
    "\n",
    "For $c$\n",
    "$$ c = \\overline{y} - m\\overline{x} $$\n",
    "where\n",
    "$$ \\overline{y} = mean(y) \\\\ \\overline{x} = mean(x)$$ \n"
   ]
  },
  {
   "cell_type": "code",
   "execution_count": 46,
   "metadata": {},
   "outputs": [
    {
     "name": "stdout",
     "output_type": "stream",
     "text": [
      "m = -3.0492\n",
      "c = 1.0286\n"
     ]
    }
   ],
   "source": [
    "numerator = np.sum(X*y) - (np.sum(X)*np.sum(y))/n\n",
    "denominator = np.sum(X**2) - (np.sum(X)**2)/n\n",
    "m = numerator/denominator\n",
    "c = np.mean(y) - m*np.mean(X)\n",
    "print ('m = {:.4f}'.format(m))\n",
    "print ('c = {:.4f}'.format(c))"
   ]
  },
  {
   "cell_type": "markdown",
   "metadata": {},
   "source": [
    "Now that we have the parameters for our line let's plot the line and see how well it fits the data."
   ]
  },
  {
   "cell_type": "code",
   "execution_count": 50,
   "metadata": {},
   "outputs": [
    {
     "data": {
      "image/png": "[encoded data removed]",
      "text/plain": [
       "<Figure size 432x288 with 1 Axes>"
      ]
     },
     "metadata": {
      "needs_background": "light"
     },
     "output_type": "display_data"
    }
   ],
   "source": [
    "draw_line(X, y, m, c)"
   ]
  },
  {
   "cell_type": "markdown",
   "metadata": {},
   "source": [
    "Visually the line fits well but we still need something concrete like a number of how good the parameters are hence we use the Mean squared error.\n",
    "\n",
    "$$ MSE = \\dfrac{\\Sigma(y_i-\\overline{y_i})^2}{n} $$\n",
    "\n",
    "where\n",
    "\n",
    "$$ y_i = \\text{True $y$ value for the corresponding $i^{th}$ x value} \\\\ \\overline{y_i} = \\text{Predicted $y$ value for the corresponding $i^{th}$ x value} $$"
   ]
  },
  {
   "cell_type": "code",
   "execution_count": 51,
   "metadata": {},
   "outputs": [
    {
     "name": "stdout",
     "output_type": "stream",
     "text": [
      "Mean squared error 0.9664\n"
     ]
    }
   ],
   "source": [
    "mse = calculate_mse(X,y,m,c)\n",
    "print ('Mean squared error {:.4f}'.format(mse))"
   ]
  },
  {
   "cell_type": "markdown",
   "metadata": {},
   "source": [
    "### Part Two: Linear regression using Numerical Approximation"
   ]
  },
  {
   "cell_type": "markdown",
   "metadata": {},
   "source": [
    "Lets, find the same parameters using [Gradient Descent](https://towardsdatascience.com/understanding-the-mathematics-behind-gradient-descent-dde5dc9be06e) (One of the optimization method)\n",
    "\n",
    "$$ m := m - \\partial m$$\n",
    "$$ c := c - \\partial c$$\n",
    "\n",
    "where\n",
    "\n",
    "$$ \\partial m \\text{ and } \\partial c$$ are partial derivative of the loss function w.r.t $m$ and $c$.\n",
    "\n",
    "We will use the Mean Squared Error as the loss function. The derivative of MSE w.r.t $m$ and $c$ is as follows:\n",
    "\n",
    "$$ \\dfrac{\\partial L}{\\partial m} = -\\dfrac{2(y_i+mx_i-c)*x_i}{n} $$\n",
    "\n",
    "$$ \\dfrac{\\partial L}{\\partial c} = -\\dfrac{2(y_i+mx_i-c)}{n} $$\n",
    "\n",
    "Since gradient descent is an iterative approach for finding the minimum we update the parameters after each sample. "
   ]
  },
  {
   "cell_type": "markdown",
   "metadata": {},
   "source": [
    "Stochastic Gradient Descent"
   ]
  },
  {
   "cell_type": "code",
   "execution_count": 79,
   "metadata": {},
   "outputs": [
    {
     "name": "stdout",
     "output_type": "stream",
     "text": [
      "Mean squared error 1.2656\n"
     ]
    },
    {
     "data": {
      "image/png": "[encoded data removed]",
      "text/plain": [
       "<Figure size 432x288 with 1 Axes>"
      ]
     },
     "metadata": {
      "needs_background": "light"
     },
     "output_type": "display_data"
    }
   ],
   "source": [
    "m = np.random.randn()\n",
    "c = np.random.randn()\n",
    "learning_rate = 0.01\n",
    "iterations = 45\n",
    "for _ in range(iterations): \n",
    "    for i in range(n):\n",
    "        dm = (-2*(y[i]+m*X[i]-c)*X[i])/n\n",
    "        dc = (-2*(y[i]+m*X[i]-c))/n\n",
    "        m = m - learning_rate*dm\n",
    "        c = c - learning_rate*dc\n",
    "mse = calculate_mse(X, y, m, c)\n",
    "print ('Mean squared error {:.4f}'.format(mse))\n",
    "draw_line(X, y, m, c)"
   ]
  },
  {
   "cell_type": "markdown",
   "metadata": {},
   "source": [
    "Batch Gradient Descent"
   ]
  },
  {
   "cell_type": "code",
   "execution_count": 133,
   "metadata": {},
   "outputs": [
    {
     "name": "stdout",
     "output_type": "stream",
     "text": [
      "Mean squared error 8.1330\n"
     ]
    },
    {
     "data": {
      "image/png": "[encoded data removed]",
      "text/plain": [
       "<Figure size 432x288 with 1 Axes>"
      ]
     },
     "metadata": {
      "needs_background": "light"
     },
     "output_type": "display_data"
    }
   ],
   "source": [
    "m = np.random.randn()\n",
    "c = np.random.randn()\n",
    "learning_rate = 0.001\n",
    "iterations = 150\n",
    "for _ in range(iterations): \n",
    "    dm = (-2*np.sum([(y[i]+m*X[i]-c)*X[i]  for i in range(n)]))/n\n",
    "    dc = (-2*np.sum([(y[i]+m*X[i]-c)  for i in range(n)]))/n\n",
    "    m = m - learning_rate*dm\n",
    "    c = c - learning_rate*dc\n",
    "mse = calculate_mse(X, y, m, c)\n",
    "print ('Mean squared error {:.4f}'.format(mse))\n",
    "draw_line(X, y, m, c)"
   ]
  },
  {
   "cell_type": "code",
   "execution_count": null,
   "metadata": {},
   "outputs": [],
   "source": []
  }
 ],
 "metadata": {
  "kernelspec": {
   "display_name": "Python 3",
   "language": "python",
   "name": "python3"
  },
  "language_info": {
   "codemirror_mode": {
    "name": "ipython",
    "version": 3
   },
   "file_extension": ".py",
   "mimetype": "text/x-python",
   "name": "python",
   "nbconvert_exporter": "python",
   "pygments_lexer": "ipython3",
   "version": "3.8.3"
  }
 },
 "nbformat": 4,
 "nbformat_minor": 4
}
